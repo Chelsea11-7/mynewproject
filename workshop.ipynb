{
 "cells": [
  {
   "cell_type": "markdown",
   "metadata": {},
   "source": [
    "# 金融科技第一次实验 Fintech WorkShop No.1\n",
    "## 实验目标：熟悉Git、GitHub、Markdown和Jupyter Notebook\n",
    "## 实验内容\n",
    "- git [官方网站](https://git-scm.com/doc)\n",
    "- GitHub [官方网站](https://www.github.com)\n",
    "- Markdown [CheatSheet](https://github.com/adam-p/markdown-here/wiki/Markdown-Cheatsheet)\n",
    "- Jupyter Notebook [CheatSheet](https://res.cloudinary.com/dyd911kmh/image/upload/v1676302533/Marketing/Blog/Jupyterlab_Cheat_Sheet.pdf)"
   ]
  },
  {
   "cell_type": "markdown",
   "metadata": {},
   "source": []
  },
  {
   "cell_type": "markdown",
   "metadata": {},
   "source": []
  },
  {
   "cell_type": "markdown",
   "metadata": {},
   "source": []
  },
  {
   "cell_type": "markdown",
   "metadata": {},
   "source": []
  }
 ],
 "metadata": {
  "kernelspec": {
   "display_name": "Python 3",
   "language": "python",
   "name": "python3"
  },
  "language_info": {
   "codemirror_mode": {
    "name": "ipython",
    "version": 3
   },
   "file_extension": ".py",
   "mimetype": "text/x-python",
   "name": "python",
   "nbconvert_exporter": "python",
   "pygments_lexer": "ipython3",
   "version": "3.6.7"
  }
 },
 "nbformat": 4,
 "nbformat_minor": 2
}
