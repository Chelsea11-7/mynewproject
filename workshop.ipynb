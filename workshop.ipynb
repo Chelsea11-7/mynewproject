{
 "cells": [
  {
   "cell_type": "markdown",
   "metadata": {},
   "source": [
    "# 金融科技第一次实验 Fintech WorkShop No.1\n",
    "## 实验目标：熟悉Git、GitHub、Markdown和Jupyter Notebook\n",
    "## 实验内容\n",
    "- git [官方网站](https://git-scm.com/doc)\n",
    "- GitHub [官方网站](https://www.github.com)\n",
    "- Markdown [CheatSheet](https://github.com/adam-p/markdown-here/wiki/Markdown-Cheatsheet)\n",
    "- Jupyter Notebook [CheatSheet](https://res.cloudinary.com/dyd911kmh/image/upload/v1676302533/Marketing/Blog/Jupyterlab_Cheat_Sheet.pdf)"
   ]
  },
  {
   "cell_type": "markdown",
   "metadata": {},
   "source": [
    "### 1. GIT和Github\n",
    "因为我们一直在不断进步，所以我们也不断修改我们的文档和代码。：）  \n",
    "GIT能够帮助我们更好地进行版本管理。“版本控制”，也称为版本控制，源代码控制或软件配置管理（SCM），是**存储和管理文档、代码的更改信息。** \n",
    "\n",
    "跟踪并重现工作的每一步在软件世界中：它被称为版本控制！\n",
    "\n",
    "（优秀的）版本控制工具给你带来了什么？\n",
    "\n",
    "安心（备份） 自由（探索性分支） 协作（同步）\n",
    "\n",
    "####  GIT常用命令和用法\n",
    "\n",
    "- **安装git** 参见官网安装文档 [link](https://git-scm.com/book/zh/v2/%E8%B5%B7%E6%AD%A5-%E5%AE%89%E8%A3%85-Git) \n",
    "\n",
    "\n",
    "- **在本地创建存储库repo**    （<font color=red>*请补齐操作步骤*</font>）\n",
    "  1. 设置git全局用户名\n",
    "  \n",
    " `$ git config --global user.name \"Little Pan\"\n",
    " $ git config --global user.email \"1712015542@qq.com\" `\n",
    "  \n",
    "  2. 初始化当前文件夹为git仓库\n",
    "  \n",
    " `$ git init`\n",
    "  3. 设置git当前仓库用户名\n",
    "    \n",
    " `$ git config user.name \"Little Pan\"\n",
    " $ git config user.email \"1712015542@qq.com\" `\n",
    "  \n",
    "  4. 检查当前用户名设置   \n",
    "  \n",
    " `$ git config --list`\n",
    "  \n",
    "  \n",
    "- **在本地创建文件、添加文件和修改文件时的git操作**\n",
    "  （<font color=red>*请补齐操作步骤*</font>）\n",
    "  1. 创建本文档workshop.ipynb\n",
    "  \n",
    " `$ touch workshop.ipynb`\n",
    "  2. 添加和确认提交此文件\n",
    "  \n",
    " `$ git add workshop.ipynb\n",
    " $ git commit -m \"first commit\"`\n",
    "  3. 修改文件后再次确认提交\n",
    "  \n",
    " `$ git add workshop.ipynb\n",
    " $ git commit -m \"second commit\"`\n",
    "  4. 查看当前仓库状态\n",
    "  \n",
    " `$ git status`\n",
    "  \n",
    "   \n",
    "- **创建远程仓库[ref](https://docs.github.com/zh/get-started/importing-your-projects-to-github/importing-source-code-to-github/adding-locally-hosted-code-to-github)**\n",
    "   （<font color=red>*请补齐操作步骤*</font>）\n",
    "  1. 在github上创建账号并获取ssh-key\n",
    "  2. 在github上创建一个没有readme、许可协议和git ignore文件的新存储库\n",
    "  3. 在上一步创建的本地仓库中添加远程仓库地址（github）\n",
    "  4. 将本地仓库的更改推送到github中    \n",
    "  \n",
    "  \n",
    "- **获取他人（组长）的远程仓库到本地并完成更改后提交** （<font color=red>*请补齐操作步骤*</font>）\n",
    "\n",
    "- **组长合并他人的提交** （<font color=red>*请补齐操作步骤*</font>）\n"
   ]
  },
  {
   "cell_type": "code",
   "execution_count": null,
   "metadata": {},
   "outputs": [],
   "source": []
  }
 ],
 "metadata": {
  "kernelspec": {
   "display_name": "Python 3",
   "language": "python",
   "name": "python3"
  },
  "language_info": {
   "codemirror_mode": {
    "name": "ipython",
    "version": 3
   },
   "file_extension": ".py",
   "mimetype": "text/x-python",
   "name": "python",
   "nbconvert_exporter": "python",
   "pygments_lexer": "ipython3",
   "version": "3.6.7"
  }
 },
 "nbformat": 4,
 "nbformat_minor": 2
}
